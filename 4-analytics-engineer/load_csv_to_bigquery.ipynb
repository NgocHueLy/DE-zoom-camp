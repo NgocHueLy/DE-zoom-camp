{
 "cells": [
  {
   "cell_type": "code",
   "execution_count": 2,
   "id": "29a41271-a0d6-40d6-b6a9-26dfcc2fcce4",
   "metadata": {},
   "outputs": [],
   "source": [
    "import pandas as pd\n",
    "import glob\n",
    "import pandas_gbq"
   ]
  },
  {
   "cell_type": "code",
   "execution_count": 9,
   "id": "85d3b466-9541-4ebf-963a-92882e656edb",
   "metadata": {},
   "outputs": [
    {
     "name": "stderr",
     "output_type": "stream",
     "text": [
      "C:\\Users\\Hue\\AppData\\Local\\Temp\\ipykernel_22392\\4001259376.py:32: FutureWarning: to_gbq is deprecated and will be removed in a future version. Please use pandas_gbq.to_gbq instead: https://pandas-gbq.readthedocs.io/en/latest/api.html#pandas_gbq.to_gbq\n",
      "  df.to_gbq(table_id, project_id=project_id, if_exists='append')\n"
     ]
    },
    {
     "name": "stdout",
     "output_type": "stream",
     "text": [
      "load 1 file\n"
     ]
    },
    {
     "name": "stderr",
     "output_type": "stream",
     "text": [
      "C:\\Users\\Hue\\AppData\\Local\\Temp\\ipykernel_22392\\4001259376.py:32: FutureWarning: to_gbq is deprecated and will be removed in a future version. Please use pandas_gbq.to_gbq instead: https://pandas-gbq.readthedocs.io/en/latest/api.html#pandas_gbq.to_gbq\n",
      "  df.to_gbq(table_id, project_id=project_id, if_exists='append')\n"
     ]
    },
    {
     "name": "stdout",
     "output_type": "stream",
     "text": [
      "load 2 file\n"
     ]
    },
    {
     "name": "stderr",
     "output_type": "stream",
     "text": [
      "C:\\Users\\Hue\\AppData\\Local\\Temp\\ipykernel_22392\\4001259376.py:32: FutureWarning: to_gbq is deprecated and will be removed in a future version. Please use pandas_gbq.to_gbq instead: https://pandas-gbq.readthedocs.io/en/latest/api.html#pandas_gbq.to_gbq\n",
      "  df.to_gbq(table_id, project_id=project_id, if_exists='append')\n"
     ]
    },
    {
     "name": "stdout",
     "output_type": "stream",
     "text": [
      "load 3 file\n"
     ]
    },
    {
     "name": "stderr",
     "output_type": "stream",
     "text": [
      "C:\\Users\\Hue\\AppData\\Local\\Temp\\ipykernel_22392\\4001259376.py:32: FutureWarning: to_gbq is deprecated and will be removed in a future version. Please use pandas_gbq.to_gbq instead: https://pandas-gbq.readthedocs.io/en/latest/api.html#pandas_gbq.to_gbq\n",
      "  df.to_gbq(table_id, project_id=project_id, if_exists='append')\n"
     ]
    },
    {
     "name": "stdout",
     "output_type": "stream",
     "text": [
      "load 4 file\n"
     ]
    },
    {
     "name": "stderr",
     "output_type": "stream",
     "text": [
      "C:\\Users\\Hue\\AppData\\Local\\Temp\\ipykernel_22392\\4001259376.py:32: FutureWarning: to_gbq is deprecated and will be removed in a future version. Please use pandas_gbq.to_gbq instead: https://pandas-gbq.readthedocs.io/en/latest/api.html#pandas_gbq.to_gbq\n",
      "  df.to_gbq(table_id, project_id=project_id, if_exists='append')\n"
     ]
    },
    {
     "name": "stdout",
     "output_type": "stream",
     "text": [
      "load 5 file\n"
     ]
    },
    {
     "name": "stderr",
     "output_type": "stream",
     "text": [
      "C:\\Users\\Hue\\AppData\\Local\\Temp\\ipykernel_22392\\4001259376.py:32: FutureWarning: to_gbq is deprecated and will be removed in a future version. Please use pandas_gbq.to_gbq instead: https://pandas-gbq.readthedocs.io/en/latest/api.html#pandas_gbq.to_gbq\n",
      "  df.to_gbq(table_id, project_id=project_id, if_exists='append')\n"
     ]
    },
    {
     "name": "stdout",
     "output_type": "stream",
     "text": [
      "load 6 file\n"
     ]
    },
    {
     "name": "stderr",
     "output_type": "stream",
     "text": [
      "C:\\Users\\Hue\\AppData\\Local\\Temp\\ipykernel_22392\\4001259376.py:32: FutureWarning: to_gbq is deprecated and will be removed in a future version. Please use pandas_gbq.to_gbq instead: https://pandas-gbq.readthedocs.io/en/latest/api.html#pandas_gbq.to_gbq\n",
      "  df.to_gbq(table_id, project_id=project_id, if_exists='append')\n"
     ]
    },
    {
     "name": "stdout",
     "output_type": "stream",
     "text": [
      "load 7 file\n"
     ]
    },
    {
     "name": "stderr",
     "output_type": "stream",
     "text": [
      "C:\\Users\\Hue\\AppData\\Local\\Temp\\ipykernel_22392\\4001259376.py:32: FutureWarning: to_gbq is deprecated and will be removed in a future version. Please use pandas_gbq.to_gbq instead: https://pandas-gbq.readthedocs.io/en/latest/api.html#pandas_gbq.to_gbq\n",
      "  df.to_gbq(table_id, project_id=project_id, if_exists='append')\n"
     ]
    },
    {
     "name": "stdout",
     "output_type": "stream",
     "text": [
      "load 8 file\n"
     ]
    },
    {
     "name": "stderr",
     "output_type": "stream",
     "text": [
      "C:\\Users\\Hue\\AppData\\Local\\Temp\\ipykernel_22392\\4001259376.py:32: FutureWarning: to_gbq is deprecated and will be removed in a future version. Please use pandas_gbq.to_gbq instead: https://pandas-gbq.readthedocs.io/en/latest/api.html#pandas_gbq.to_gbq\n",
      "  df.to_gbq(table_id, project_id=project_id, if_exists='append')\n"
     ]
    },
    {
     "name": "stdout",
     "output_type": "stream",
     "text": [
      "load 9 file\n"
     ]
    },
    {
     "name": "stderr",
     "output_type": "stream",
     "text": [
      "C:\\Users\\Hue\\AppData\\Local\\Temp\\ipykernel_22392\\4001259376.py:32: FutureWarning: to_gbq is deprecated and will be removed in a future version. Please use pandas_gbq.to_gbq instead: https://pandas-gbq.readthedocs.io/en/latest/api.html#pandas_gbq.to_gbq\n",
      "  df.to_gbq(table_id, project_id=project_id, if_exists='append')\n"
     ]
    },
    {
     "name": "stdout",
     "output_type": "stream",
     "text": [
      "load 10 file\n"
     ]
    },
    {
     "name": "stderr",
     "output_type": "stream",
     "text": [
      "C:\\Users\\Hue\\AppData\\Local\\Temp\\ipykernel_22392\\4001259376.py:32: FutureWarning: to_gbq is deprecated and will be removed in a future version. Please use pandas_gbq.to_gbq instead: https://pandas-gbq.readthedocs.io/en/latest/api.html#pandas_gbq.to_gbq\n",
      "  df.to_gbq(table_id, project_id=project_id, if_exists='append')\n"
     ]
    },
    {
     "name": "stdout",
     "output_type": "stream",
     "text": [
      "load 11 file\n"
     ]
    },
    {
     "name": "stderr",
     "output_type": "stream",
     "text": [
      "C:\\Users\\Hue\\AppData\\Local\\Temp\\ipykernel_22392\\4001259376.py:32: FutureWarning: to_gbq is deprecated and will be removed in a future version. Please use pandas_gbq.to_gbq instead: https://pandas-gbq.readthedocs.io/en/latest/api.html#pandas_gbq.to_gbq\n",
      "  df.to_gbq(table_id, project_id=project_id, if_exists='append')\n"
     ]
    },
    {
     "name": "stdout",
     "output_type": "stream",
     "text": [
      "load 12 file\n"
     ]
    },
    {
     "name": "stderr",
     "output_type": "stream",
     "text": [
      "C:\\Users\\Hue\\AppData\\Local\\Temp\\ipykernel_22392\\4001259376.py:32: FutureWarning: to_gbq is deprecated and will be removed in a future version. Please use pandas_gbq.to_gbq instead: https://pandas-gbq.readthedocs.io/en/latest/api.html#pandas_gbq.to_gbq\n",
      "  df.to_gbq(table_id, project_id=project_id, if_exists='append')\n"
     ]
    },
    {
     "name": "stdout",
     "output_type": "stream",
     "text": [
      "load 13 file\n"
     ]
    },
    {
     "name": "stderr",
     "output_type": "stream",
     "text": [
      "C:\\Users\\Hue\\AppData\\Local\\Temp\\ipykernel_22392\\4001259376.py:32: FutureWarning: to_gbq is deprecated and will be removed in a future version. Please use pandas_gbq.to_gbq instead: https://pandas-gbq.readthedocs.io/en/latest/api.html#pandas_gbq.to_gbq\n",
      "  df.to_gbq(table_id, project_id=project_id, if_exists='append')\n"
     ]
    },
    {
     "name": "stdout",
     "output_type": "stream",
     "text": [
      "load 14 file\n"
     ]
    },
    {
     "name": "stderr",
     "output_type": "stream",
     "text": [
      "C:\\Users\\Hue\\AppData\\Local\\Temp\\ipykernel_22392\\4001259376.py:32: FutureWarning: to_gbq is deprecated and will be removed in a future version. Please use pandas_gbq.to_gbq instead: https://pandas-gbq.readthedocs.io/en/latest/api.html#pandas_gbq.to_gbq\n",
      "  df.to_gbq(table_id, project_id=project_id, if_exists='append')\n"
     ]
    },
    {
     "name": "stdout",
     "output_type": "stream",
     "text": [
      "load 15 file\n"
     ]
    },
    {
     "name": "stderr",
     "output_type": "stream",
     "text": [
      "C:\\Users\\Hue\\AppData\\Local\\Temp\\ipykernel_22392\\4001259376.py:32: FutureWarning: to_gbq is deprecated and will be removed in a future version. Please use pandas_gbq.to_gbq instead: https://pandas-gbq.readthedocs.io/en/latest/api.html#pandas_gbq.to_gbq\n",
      "  df.to_gbq(table_id, project_id=project_id, if_exists='append')\n"
     ]
    },
    {
     "name": "stdout",
     "output_type": "stream",
     "text": [
      "load 16 file\n"
     ]
    },
    {
     "name": "stderr",
     "output_type": "stream",
     "text": [
      "C:\\Users\\Hue\\AppData\\Local\\Temp\\ipykernel_22392\\4001259376.py:32: FutureWarning: to_gbq is deprecated and will be removed in a future version. Please use pandas_gbq.to_gbq instead: https://pandas-gbq.readthedocs.io/en/latest/api.html#pandas_gbq.to_gbq\n",
      "  df.to_gbq(table_id, project_id=project_id, if_exists='append')\n"
     ]
    },
    {
     "name": "stdout",
     "output_type": "stream",
     "text": [
      "load 17 file\n"
     ]
    },
    {
     "name": "stderr",
     "output_type": "stream",
     "text": [
      "C:\\Users\\Hue\\AppData\\Local\\Temp\\ipykernel_22392\\4001259376.py:32: FutureWarning: to_gbq is deprecated and will be removed in a future version. Please use pandas_gbq.to_gbq instead: https://pandas-gbq.readthedocs.io/en/latest/api.html#pandas_gbq.to_gbq\n",
      "  df.to_gbq(table_id, project_id=project_id, if_exists='append')\n"
     ]
    },
    {
     "name": "stdout",
     "output_type": "stream",
     "text": [
      "load 18 file\n"
     ]
    },
    {
     "name": "stderr",
     "output_type": "stream",
     "text": [
      "C:\\Users\\Hue\\AppData\\Local\\Temp\\ipykernel_22392\\4001259376.py:32: FutureWarning: to_gbq is deprecated and will be removed in a future version. Please use pandas_gbq.to_gbq instead: https://pandas-gbq.readthedocs.io/en/latest/api.html#pandas_gbq.to_gbq\n",
      "  df.to_gbq(table_id, project_id=project_id, if_exists='append')\n"
     ]
    },
    {
     "name": "stdout",
     "output_type": "stream",
     "text": [
      "load 19 file\n"
     ]
    },
    {
     "name": "stderr",
     "output_type": "stream",
     "text": [
      "C:\\Users\\Hue\\AppData\\Local\\Temp\\ipykernel_22392\\4001259376.py:32: FutureWarning: to_gbq is deprecated and will be removed in a future version. Please use pandas_gbq.to_gbq instead: https://pandas-gbq.readthedocs.io/en/latest/api.html#pandas_gbq.to_gbq\n",
      "  df.to_gbq(table_id, project_id=project_id, if_exists='append')\n"
     ]
    },
    {
     "name": "stdout",
     "output_type": "stream",
     "text": [
      "load 20 file\n"
     ]
    },
    {
     "name": "stderr",
     "output_type": "stream",
     "text": [
      "C:\\Users\\Hue\\AppData\\Local\\Temp\\ipykernel_22392\\4001259376.py:32: FutureWarning: to_gbq is deprecated and will be removed in a future version. Please use pandas_gbq.to_gbq instead: https://pandas-gbq.readthedocs.io/en/latest/api.html#pandas_gbq.to_gbq\n",
      "  df.to_gbq(table_id, project_id=project_id, if_exists='append')\n"
     ]
    },
    {
     "name": "stdout",
     "output_type": "stream",
     "text": [
      "load 21 file\n"
     ]
    },
    {
     "name": "stderr",
     "output_type": "stream",
     "text": [
      "C:\\Users\\Hue\\AppData\\Local\\Temp\\ipykernel_22392\\4001259376.py:32: FutureWarning: to_gbq is deprecated and will be removed in a future version. Please use pandas_gbq.to_gbq instead: https://pandas-gbq.readthedocs.io/en/latest/api.html#pandas_gbq.to_gbq\n",
      "  df.to_gbq(table_id, project_id=project_id, if_exists='append')\n"
     ]
    },
    {
     "name": "stdout",
     "output_type": "stream",
     "text": [
      "load 22 file\n"
     ]
    },
    {
     "name": "stderr",
     "output_type": "stream",
     "text": [
      "C:\\Users\\Hue\\AppData\\Local\\Temp\\ipykernel_22392\\4001259376.py:32: FutureWarning: to_gbq is deprecated and will be removed in a future version. Please use pandas_gbq.to_gbq instead: https://pandas-gbq.readthedocs.io/en/latest/api.html#pandas_gbq.to_gbq\n",
      "  df.to_gbq(table_id, project_id=project_id, if_exists='append')\n"
     ]
    },
    {
     "name": "stdout",
     "output_type": "stream",
     "text": [
      "load 23 file\n"
     ]
    },
    {
     "name": "stderr",
     "output_type": "stream",
     "text": [
      "C:\\Users\\Hue\\AppData\\Local\\Temp\\ipykernel_22392\\4001259376.py:32: FutureWarning: to_gbq is deprecated and will be removed in a future version. Please use pandas_gbq.to_gbq instead: https://pandas-gbq.readthedocs.io/en/latest/api.html#pandas_gbq.to_gbq\n",
      "  df.to_gbq(table_id, project_id=project_id, if_exists='append')\n"
     ]
    },
    {
     "name": "stdout",
     "output_type": "stream",
     "text": [
      "load 24 file\n"
     ]
    }
   ],
   "source": [
    "\n",
    "# Get a list of all CSV files in a directory\n",
    "csv_files = glob.glob('yellow_taxi_data/*.csv.gz')\n",
    "\n",
    "# Create an empty dataframe to store the combined data\n",
    "taxi_dtypes = {\n",
    "        'VendorID': pd.Int64Dtype(),\n",
    "        'passenger_count': pd.Int64Dtype(),\n",
    "        'trip_distance': float,\n",
    "        'RatecodeID':pd.Int64Dtype(),\n",
    "        'store_and_fwd_flag':str,\n",
    "        'PULocationID':pd.Int64Dtype(),\n",
    "        'DOLocationID':pd.Int64Dtype(),\n",
    "        'payment_type': pd.Int64Dtype(),\n",
    "        'fare_amount': float,\n",
    "        'extra':float,\n",
    "        'mta_tax':float,\n",
    "        'tip_amount':float,\n",
    "        'tolls_amount':float,\n",
    "        'improvement_surcharge':float,\n",
    "        'total_amount':float,\n",
    "        'congestion_surcharge':float,\n",
    "    }\n",
    "\n",
    "parse_dates = ['tpep_pickup_datetime', 'tpep_dropoff_datetime']\n",
    "project_id = 'dtc-de-course-412502'\n",
    "table_id = 'dtc-de-course-412502.ny_taxi.yellow_taxi_all'\n",
    "counter = 1\n",
    "for csv_file in csv_files:\n",
    "    \n",
    "    df = pd.read_csv(csv_file, compression='gzip', dtype=taxi_dtypes, parse_dates=parse_dates)\n",
    "    df.to_gbq(table_id, project_id=project_id, if_exists='append')\n",
    "    print(f'load {counter} file')\n",
    "    counter +=1\n",
    "\n",
    "\n"
   ]
  },
  {
   "cell_type": "code",
   "execution_count": 20,
   "id": "c284b598-f693-46b0-b2ad-aa8eb7dd2b98",
   "metadata": {},
   "outputs": [
    {
     "name": "stdout",
     "output_type": "stream",
     "text": [
      "load 1 data\n",
      "load 2 data\n",
      "load 3 data\n",
      "load 4 data\n",
      "load 5 data\n",
      "load 6 data\n",
      "load 7 data\n",
      "load 8 data\n",
      "load 9 data\n",
      "load 10 data\n",
      "load 11 data\n",
      "load 12 data\n"
     ]
    }
   ],
   "source": [
    "# downlod fhv trip files 2019 to local disk:\n",
    "dta_types ={\n",
    "    'PUlocationID':pd.Int64Dtype(),\n",
    "    'DOlocationID':pd.Int64Dtype(),\n",
    "    'SR_Flag':pd.Int64Dtype(),\n",
    "}\n",
    "\n",
    "parse_dates = ['pickup_datetime','dropOff_datetime']\n",
    "\n",
    "project_id = 'dtc-de-course-412502'\n",
    "table_id = 'dtc-de-course-412502.ny_taxi.fhv'\n",
    "\n",
    "for month in range (1,13):\n",
    "    url = f\"https://github.com/DataTalksClub/nyc-tlc-data/releases/download/fhv/fhv_tripdata_2019-{month:02d}.csv.gz\"\n",
    "    df = pd.read_csv(url,compression='gzip', dtype=dta_types, parse_dates=parse_dates )\n",
    "    pandas_gbq.to_gbq(df, table_id, project_id=project_id, if_exists='append')\n",
    "    print(f'load {month} data')"
   ]
  },
  {
   "cell_type": "code",
   "execution_count": 4,
   "id": "caa0ed58-32bb-4180-9670-0b4d1febfb85",
   "metadata": {},
   "outputs": [
    {
     "name": "stdout",
     "output_type": "stream",
     "text": [
      "add 1 files row\n",
      "add 2 files row\n",
      "add 3 files row\n",
      "add 4 files row\n",
      "add 5 files row\n",
      "add 6 files row\n"
     ]
    },
    {
     "name": "stderr",
     "output_type": "stream",
     "text": [
      "C:\\Users\\Hue\\AppData\\Local\\Temp\\ipykernel_21092\\364688570.py:32: DtypeWarning: Columns (6) have mixed types. Specify dtype option on import or set low_memory=False.\n",
      "  df = pd.read_csv(csv_file, compression='gzip')\n"
     ]
    },
    {
     "name": "stdout",
     "output_type": "stream",
     "text": [
      "add 7 files row\n"
     ]
    },
    {
     "name": "stderr",
     "output_type": "stream",
     "text": [
      "C:\\Users\\Hue\\AppData\\Local\\Temp\\ipykernel_21092\\364688570.py:32: DtypeWarning: Columns (6) have mixed types. Specify dtype option on import or set low_memory=False.\n",
      "  df = pd.read_csv(csv_file, compression='gzip')\n"
     ]
    },
    {
     "name": "stdout",
     "output_type": "stream",
     "text": [
      "add 8 files row\n"
     ]
    },
    {
     "name": "stderr",
     "output_type": "stream",
     "text": [
      "C:\\Users\\Hue\\AppData\\Local\\Temp\\ipykernel_21092\\364688570.py:32: DtypeWarning: Columns (6) have mixed types. Specify dtype option on import or set low_memory=False.\n",
      "  df = pd.read_csv(csv_file, compression='gzip')\n"
     ]
    },
    {
     "name": "stdout",
     "output_type": "stream",
     "text": [
      "add 9 files row\n"
     ]
    },
    {
     "name": "stderr",
     "output_type": "stream",
     "text": [
      "C:\\Users\\Hue\\AppData\\Local\\Temp\\ipykernel_21092\\364688570.py:32: DtypeWarning: Columns (6) have mixed types. Specify dtype option on import or set low_memory=False.\n",
      "  df = pd.read_csv(csv_file, compression='gzip')\n"
     ]
    },
    {
     "name": "stdout",
     "output_type": "stream",
     "text": [
      "add 10 files row\n"
     ]
    },
    {
     "name": "stderr",
     "output_type": "stream",
     "text": [
      "C:\\Users\\Hue\\AppData\\Local\\Temp\\ipykernel_21092\\364688570.py:32: DtypeWarning: Columns (6) have mixed types. Specify dtype option on import or set low_memory=False.\n",
      "  df = pd.read_csv(csv_file, compression='gzip')\n"
     ]
    },
    {
     "name": "stdout",
     "output_type": "stream",
     "text": [
      "add 11 files row\n"
     ]
    },
    {
     "name": "stderr",
     "output_type": "stream",
     "text": [
      "C:\\Users\\Hue\\AppData\\Local\\Temp\\ipykernel_21092\\364688570.py:32: DtypeWarning: Columns (6) have mixed types. Specify dtype option on import or set low_memory=False.\n",
      "  df = pd.read_csv(csv_file, compression='gzip')\n"
     ]
    },
    {
     "name": "stdout",
     "output_type": "stream",
     "text": [
      "add 12 files row\n"
     ]
    },
    {
     "name": "stderr",
     "output_type": "stream",
     "text": [
      "C:\\Users\\Hue\\AppData\\Local\\Temp\\ipykernel_21092\\364688570.py:32: DtypeWarning: Columns (6) have mixed types. Specify dtype option on import or set low_memory=False.\n",
      "  df = pd.read_csv(csv_file, compression='gzip')\n"
     ]
    },
    {
     "name": "stdout",
     "output_type": "stream",
     "text": [
      "add 13 files row\n"
     ]
    },
    {
     "name": "stderr",
     "output_type": "stream",
     "text": [
      "C:\\Users\\Hue\\AppData\\Local\\Temp\\ipykernel_21092\\364688570.py:32: DtypeWarning: Columns (6) have mixed types. Specify dtype option on import or set low_memory=False.\n",
      "  df = pd.read_csv(csv_file, compression='gzip')\n"
     ]
    },
    {
     "name": "stdout",
     "output_type": "stream",
     "text": [
      "add 14 files row\n"
     ]
    },
    {
     "name": "stderr",
     "output_type": "stream",
     "text": [
      "C:\\Users\\Hue\\AppData\\Local\\Temp\\ipykernel_21092\\364688570.py:32: DtypeWarning: Columns (6) have mixed types. Specify dtype option on import or set low_memory=False.\n",
      "  df = pd.read_csv(csv_file, compression='gzip')\n"
     ]
    },
    {
     "name": "stdout",
     "output_type": "stream",
     "text": [
      "add 15 files row\n"
     ]
    },
    {
     "name": "stderr",
     "output_type": "stream",
     "text": [
      "C:\\Users\\Hue\\AppData\\Local\\Temp\\ipykernel_21092\\364688570.py:32: DtypeWarning: Columns (6) have mixed types. Specify dtype option on import or set low_memory=False.\n",
      "  df = pd.read_csv(csv_file, compression='gzip')\n"
     ]
    },
    {
     "name": "stdout",
     "output_type": "stream",
     "text": [
      "add 16 files row\n"
     ]
    },
    {
     "name": "stderr",
     "output_type": "stream",
     "text": [
      "C:\\Users\\Hue\\AppData\\Local\\Temp\\ipykernel_21092\\364688570.py:32: DtypeWarning: Columns (6) have mixed types. Specify dtype option on import or set low_memory=False.\n",
      "  df = pd.read_csv(csv_file, compression='gzip')\n"
     ]
    },
    {
     "name": "stdout",
     "output_type": "stream",
     "text": [
      "add 17 files row\n"
     ]
    },
    {
     "name": "stderr",
     "output_type": "stream",
     "text": [
      "C:\\Users\\Hue\\AppData\\Local\\Temp\\ipykernel_21092\\364688570.py:32: DtypeWarning: Columns (6) have mixed types. Specify dtype option on import or set low_memory=False.\n",
      "  df = pd.read_csv(csv_file, compression='gzip')\n"
     ]
    },
    {
     "name": "stdout",
     "output_type": "stream",
     "text": [
      "add 18 files row\n"
     ]
    },
    {
     "name": "stderr",
     "output_type": "stream",
     "text": [
      "C:\\Users\\Hue\\AppData\\Local\\Temp\\ipykernel_21092\\364688570.py:32: DtypeWarning: Columns (6) have mixed types. Specify dtype option on import or set low_memory=False.\n",
      "  df = pd.read_csv(csv_file, compression='gzip')\n"
     ]
    },
    {
     "name": "stdout",
     "output_type": "stream",
     "text": [
      "add 19 files row\n"
     ]
    },
    {
     "name": "stderr",
     "output_type": "stream",
     "text": [
      "C:\\Users\\Hue\\AppData\\Local\\Temp\\ipykernel_21092\\364688570.py:32: DtypeWarning: Columns (6) have mixed types. Specify dtype option on import or set low_memory=False.\n",
      "  df = pd.read_csv(csv_file, compression='gzip')\n"
     ]
    },
    {
     "name": "stdout",
     "output_type": "stream",
     "text": [
      "add 20 files row\n"
     ]
    },
    {
     "name": "stderr",
     "output_type": "stream",
     "text": [
      "C:\\Users\\Hue\\AppData\\Local\\Temp\\ipykernel_21092\\364688570.py:32: DtypeWarning: Columns (6) have mixed types. Specify dtype option on import or set low_memory=False.\n",
      "  df = pd.read_csv(csv_file, compression='gzip')\n"
     ]
    },
    {
     "name": "stdout",
     "output_type": "stream",
     "text": [
      "add 21 files row\n"
     ]
    },
    {
     "name": "stderr",
     "output_type": "stream",
     "text": [
      "C:\\Users\\Hue\\AppData\\Local\\Temp\\ipykernel_21092\\364688570.py:32: DtypeWarning: Columns (6) have mixed types. Specify dtype option on import or set low_memory=False.\n",
      "  df = pd.read_csv(csv_file, compression='gzip')\n"
     ]
    },
    {
     "name": "stdout",
     "output_type": "stream",
     "text": [
      "add 22 files row\n"
     ]
    },
    {
     "name": "stderr",
     "output_type": "stream",
     "text": [
      "C:\\Users\\Hue\\AppData\\Local\\Temp\\ipykernel_21092\\364688570.py:32: DtypeWarning: Columns (6) have mixed types. Specify dtype option on import or set low_memory=False.\n",
      "  df = pd.read_csv(csv_file, compression='gzip')\n"
     ]
    },
    {
     "name": "stdout",
     "output_type": "stream",
     "text": [
      "add 23 files row\n"
     ]
    },
    {
     "name": "stderr",
     "output_type": "stream",
     "text": [
      "C:\\Users\\Hue\\AppData\\Local\\Temp\\ipykernel_21092\\364688570.py:32: DtypeWarning: Columns (6) have mixed types. Specify dtype option on import or set low_memory=False.\n",
      "  df = pd.read_csv(csv_file, compression='gzip')\n"
     ]
    },
    {
     "name": "stdout",
     "output_type": "stream",
     "text": [
      "add 24 files row\n",
      "109047518\n"
     ]
    }
   ],
   "source": [
    "# check total yellow taxi rows\n",
    "\n",
    "# Get a list of all CSV files in a directory\n",
    "csv_files = glob.glob('yellow_taxi_data/*.csv.gz')\n",
    "\n",
    "# Create an empty dataframe to store the combined data\n",
    "# taxi_dtypes = {\n",
    "#         'VendorID': pd.Int64Dtype(),\n",
    "#         'passenger_count': pd.Int64Dtype(),\n",
    "#         'trip_distance': float,\n",
    "#         'RatecodeID':pd.Int64Dtype(),\n",
    "#         'store_and_fwd_flag':str,\n",
    "#         'PULocationID':pd.Int64Dtype(),\n",
    "#         'DOLocationID':pd.Int64Dtype(),\n",
    "#         'payment_type': pd.Int64Dtype(),\n",
    "#         'fare_amount': float,\n",
    "#         'extra':float,\n",
    "#         'mta_tax':float,\n",
    "#         'tip_amount':float,\n",
    "#         'tolls_amount':float,\n",
    "#         'improvement_surcharge':float,\n",
    "#         'total_amount':float,\n",
    "#         'congestion_surcharge':float,\n",
    "#     }\n",
    "\n",
    "# parse_dates = ['tpep_pickup_datetime', 'tpep_dropoff_datetime']\n",
    "\n",
    "rows =[]\n",
    "counter = 1\n",
    "for csv_file in csv_files:\n",
    "    \n",
    "    df = pd.read_csv(csv_file, compression='gzip')\n",
    "    rows.append(len(df))\n",
    "    print(f'add {counter} files row')\n",
    "    counter +=1\n",
    "\n",
    "total_rows = sum(rows)\n",
    "print(total_rows)"
   ]
  },
  {
   "cell_type": "code",
   "execution_count": 7,
   "id": "e3a8952b-9604-4818-bc4a-7735316fd490",
   "metadata": {},
   "outputs": [
    {
     "name": "stderr",
     "output_type": "stream",
     "text": [
      "C:\\Users\\Hue\\AppData\\Local\\Temp\\ipykernel_21092\\4120697008.py:8: DtypeWarning: Columns (3) have mixed types. Specify dtype option on import or set low_memory=False.\n",
      "  df = pd.read_csv(url, compression='gzip')\n",
      "C:\\Users\\Hue\\AppData\\Local\\Temp\\ipykernel_21092\\4120697008.py:8: DtypeWarning: Columns (3) have mixed types. Specify dtype option on import or set low_memory=False.\n",
      "  df = pd.read_csv(url, compression='gzip')\n",
      "C:\\Users\\Hue\\AppData\\Local\\Temp\\ipykernel_21092\\4120697008.py:8: DtypeWarning: Columns (3) have mixed types. Specify dtype option on import or set low_memory=False.\n",
      "  df = pd.read_csv(url, compression='gzip')\n",
      "C:\\Users\\Hue\\AppData\\Local\\Temp\\ipykernel_21092\\4120697008.py:8: DtypeWarning: Columns (3) have mixed types. Specify dtype option on import or set low_memory=False.\n",
      "  df = pd.read_csv(url, compression='gzip')\n",
      "C:\\Users\\Hue\\AppData\\Local\\Temp\\ipykernel_21092\\4120697008.py:8: DtypeWarning: Columns (3) have mixed types. Specify dtype option on import or set low_memory=False.\n",
      "  df = pd.read_csv(url, compression='gzip')\n",
      "C:\\Users\\Hue\\AppData\\Local\\Temp\\ipykernel_21092\\4120697008.py:8: DtypeWarning: Columns (3) have mixed types. Specify dtype option on import or set low_memory=False.\n",
      "  df = pd.read_csv(url, compression='gzip')\n"
     ]
    },
    {
     "name": "stdout",
     "output_type": "stream",
     "text": [
      "add 1 files row\n"
     ]
    },
    {
     "name": "stderr",
     "output_type": "stream",
     "text": [
      "C:\\Users\\Hue\\AppData\\Local\\Temp\\ipykernel_21092\\4120697008.py:8: DtypeWarning: Columns (3) have mixed types. Specify dtype option on import or set low_memory=False.\n",
      "  df = pd.read_csv(url, compression='gzip')\n",
      "C:\\Users\\Hue\\AppData\\Local\\Temp\\ipykernel_21092\\4120697008.py:8: DtypeWarning: Columns (3) have mixed types. Specify dtype option on import or set low_memory=False.\n",
      "  df = pd.read_csv(url, compression='gzip')\n",
      "C:\\Users\\Hue\\AppData\\Local\\Temp\\ipykernel_21092\\4120697008.py:8: DtypeWarning: Columns (3) have mixed types. Specify dtype option on import or set low_memory=False.\n",
      "  df = pd.read_csv(url, compression='gzip')\n",
      "C:\\Users\\Hue\\AppData\\Local\\Temp\\ipykernel_21092\\4120697008.py:8: DtypeWarning: Columns (3) have mixed types. Specify dtype option on import or set low_memory=False.\n",
      "  df = pd.read_csv(url, compression='gzip')\n",
      "C:\\Users\\Hue\\AppData\\Local\\Temp\\ipykernel_21092\\4120697008.py:8: DtypeWarning: Columns (3) have mixed types. Specify dtype option on import or set low_memory=False.\n",
      "  df = pd.read_csv(url, compression='gzip')\n",
      "C:\\Users\\Hue\\AppData\\Local\\Temp\\ipykernel_21092\\4120697008.py:8: DtypeWarning: Columns (3) have mixed types. Specify dtype option on import or set low_memory=False.\n",
      "  df = pd.read_csv(url, compression='gzip')\n",
      "C:\\Users\\Hue\\AppData\\Local\\Temp\\ipykernel_21092\\4120697008.py:8: DtypeWarning: Columns (3) have mixed types. Specify dtype option on import or set low_memory=False.\n",
      "  df = pd.read_csv(url, compression='gzip')\n",
      "C:\\Users\\Hue\\AppData\\Local\\Temp\\ipykernel_21092\\4120697008.py:8: DtypeWarning: Columns (3) have mixed types. Specify dtype option on import or set low_memory=False.\n",
      "  df = pd.read_csv(url, compression='gzip')\n",
      "C:\\Users\\Hue\\AppData\\Local\\Temp\\ipykernel_21092\\4120697008.py:8: DtypeWarning: Columns (3) have mixed types. Specify dtype option on import or set low_memory=False.\n",
      "  df = pd.read_csv(url, compression='gzip')\n",
      "C:\\Users\\Hue\\AppData\\Local\\Temp\\ipykernel_21092\\4120697008.py:8: DtypeWarning: Columns (3) have mixed types. Specify dtype option on import or set low_memory=False.\n",
      "  df = pd.read_csv(url, compression='gzip')\n"
     ]
    },
    {
     "name": "stdout",
     "output_type": "stream",
     "text": [
      "add 2 files row\n",
      "7778101\n"
     ]
    },
    {
     "name": "stderr",
     "output_type": "stream",
     "text": [
      "C:\\Users\\Hue\\AppData\\Local\\Temp\\ipykernel_21092\\4120697008.py:8: DtypeWarning: Columns (3) have mixed types. Specify dtype option on import or set low_memory=False.\n",
      "  df = pd.read_csv(url, compression='gzip')\n"
     ]
    }
   ],
   "source": [
    "# check total green_taxi data (2019+2020)\n",
    "rows =[]\n",
    "counter = 1\n",
    "for year in [2019,2020]:\n",
    "    for month in range (1,13):\n",
    "        url = f\"https://github.com/DataTalksClub/nyc-tlc-data/releases/download/green/green_tripdata_{year}-{month:02d}.csv.gz\"\n",
    "        \n",
    "        df = pd.read_csv(url, compression='gzip')\n",
    "        rows.append(len(df))\n",
    "    print(f'add {counter} files row')\n",
    "    counter +=1\n",
    "\n",
    "total_rows = sum(rows)\n",
    "print(total_rows)"
   ]
  },
  {
   "cell_type": "code",
   "execution_count": 8,
   "id": "e2b3ba12-7ea8-468a-8f3a-d78c5e03adbe",
   "metadata": {},
   "outputs": [
    {
     "name": "stdout",
     "output_type": "stream",
     "text": [
      "add month 1 data\n",
      "add month 2 data\n",
      "add month 3 data\n",
      "add month 4 data\n",
      "add month 5 data\n",
      "add month 6 data\n",
      "add month 7 data\n",
      "add month 8 data\n",
      "add month 9 data\n",
      "add month 10 data\n",
      "add month 11 data\n",
      "add month 12 data\n",
      "43244696\n"
     ]
    }
   ],
   "source": [
    "# check total fhv 2019 rows:\n",
    "rows =[]\n",
    "\n",
    "for month in range (1,13):\n",
    "    url = f\"https://github.com/DataTalksClub/nyc-tlc-data/releases/download/fhv/fhv_tripdata_2019-{month:02d}.csv.gz\"\n",
    "    df = pd.read_csv(url,compression='gzip')\n",
    "    rows.append(len(df))\n",
    "    print(f'add month {month} data')\n",
    "\n",
    "total_rows = sum(rows)\n",
    "print(total_rows)"
   ]
  },
  {
   "cell_type": "code",
   "execution_count": null,
   "id": "aa0a92d1-224b-4f86-badd-ba3d69f44d0a",
   "metadata": {},
   "outputs": [],
   "source": []
  }
 ],
 "metadata": {
  "kernelspec": {
   "display_name": "Python 3 (ipykernel)",
   "language": "python",
   "name": "python3"
  },
  "language_info": {
   "codemirror_mode": {
    "name": "ipython",
    "version": 3
   },
   "file_extension": ".py",
   "mimetype": "text/x-python",
   "name": "python",
   "nbconvert_exporter": "python",
   "pygments_lexer": "ipython3",
   "version": "3.11.6"
  }
 },
 "nbformat": 4,
 "nbformat_minor": 5
}
