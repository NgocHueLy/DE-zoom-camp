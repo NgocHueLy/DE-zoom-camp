{
 "cells": [
  {
   "cell_type": "code",
   "execution_count": 2,
   "id": "e9bb3b92",
   "metadata": {},
   "outputs": [
    {
     "name": "stderr",
     "output_type": "stream",
     "text": [
      "Setting default log level to \"WARN\".\n",
      "To adjust logging level use sc.setLogLevel(newLevel). For SparkR, use setLogLevel(newLevel).\n",
      "24/03/04 16:10:04 WARN NativeCodeLoader: Unable to load native-hadoop library for your platform... using builtin-java classes where applicable\n"
     ]
    }
   ],
   "source": [
    "import pyspark\n",
    "from pyspark.sql import SparkSession\n",
    "\n",
    "spark = SparkSession.builder \\\n",
    "    .master(\"local[*]\") \\\n",
    "    .appName('test') \\\n",
    "    .getOrCreate()"
   ]
  },
  {
   "cell_type": "code",
   "execution_count": 11,
   "id": "94226353",
   "metadata": {},
   "outputs": [],
   "source": [
    "df_green = spark.read.parquet('/home/huely/data/pq/green/*/*')"
   ]
  },
  {
   "cell_type": "code",
   "execution_count": 7,
   "id": "1a0a21f6",
   "metadata": {},
   "outputs": [
    {
     "name": "stdout",
     "output_type": "stream",
     "text": [
      "root\n",
      " |-- VendorID: integer (nullable = true)\n",
      " |-- lpep_pickup_datetime: timestamp (nullable = true)\n",
      " |-- lpep_dropoff_datetime: timestamp (nullable = true)\n",
      " |-- store_and_fwd_flag: string (nullable = true)\n",
      " |-- RatecodeID: integer (nullable = true)\n",
      " |-- PULocationID: integer (nullable = true)\n",
      " |-- DOLocationID: integer (nullable = true)\n",
      " |-- passenger_count: integer (nullable = true)\n",
      " |-- trip_distance: double (nullable = true)\n",
      " |-- fare_amount: double (nullable = true)\n",
      " |-- extra: double (nullable = true)\n",
      " |-- mta_tax: double (nullable = true)\n",
      " |-- tip_amount: double (nullable = true)\n",
      " |-- tolls_amount: double (nullable = true)\n",
      " |-- ehail_fee: double (nullable = true)\n",
      " |-- improvement_surcharge: double (nullable = true)\n",
      " |-- total_amount: double (nullable = true)\n",
      " |-- payment_type: integer (nullable = true)\n",
      " |-- trip_type: integer (nullable = true)\n",
      " |-- congestion_surcharge: double (nullable = true)\n",
      "\n"
     ]
    }
   ],
   "source": [
    "df_green.printSchema()"
   ]
  },
  {
   "cell_type": "code",
   "execution_count": 25,
   "id": "cdaf71e3",
   "metadata": {},
   "outputs": [
    {
     "name": "stdout",
     "output_type": "stream",
     "text": [
      "+--------+--------------------+---------------------+------------------+----------+------------+------------+---------------+-------------+-----------+-----+-------+----------+------------+---------+---------------------+------------+------------+---------+--------------------+\n",
      "|VendorID|lpep_pickup_datetime|lpep_dropoff_datetime|store_and_fwd_flag|RatecodeID|PULocationID|DOLocationID|passenger_count|trip_distance|fare_amount|extra|mta_tax|tip_amount|tolls_amount|ehail_fee|improvement_surcharge|total_amount|payment_type|trip_type|congestion_surcharge|\n",
      "+--------+--------------------+---------------------+------------------+----------+------------+------------+---------------+-------------+-----------+-----+-------+----------+------------+---------+---------------------+------------+------------+---------+--------------------+\n",
      "|       2| 2020-01-08 09:48:52|  2020-01-08 09:52:42|                 N|         1|          97|          49|              1|         0.82|        5.0|  0.0|    0.5|       1.2|         0.0|     NULL|                  0.3|         7.0|           1|        1|                 0.0|\n",
      "|       2| 2020-01-04 10:28:49|  2020-01-04 10:32:45|                 N|         1|          42|          41|              1|         0.77|        5.0|  0.0|    0.5|      1.16|         0.0|     NULL|                  0.3|        6.96|           1|        1|                 0.0|\n",
      "|       2| 2020-01-05 16:19:23|  2020-01-05 16:27:49|                 N|         1|           7|         193|              1|         1.46|        7.5|  0.0|    0.5|      1.66|         0.0|     NULL|                  0.3|        9.96|           1|        1|                 0.0|\n",
      "|       2| 2020-01-01 09:55:05|  2020-01-01 09:55:08|                 N|         5|         177|         264|              1|          0.0|       18.0|  0.0|    0.0|       0.0|         0.0|     NULL|                  0.3|        18.3|           2|        2|                 0.0|\n",
      "|       2| 2020-01-09 00:45:29|  2020-01-09 00:55:34|                 N|         1|          66|         209|              1|         2.38|       10.0|  0.5|    0.5|      2.81|         0.0|     NULL|                  0.3|       16.86|           1|        1|                2.75|\n",
      "|       2| 2020-01-08 22:34:12|  2020-01-08 22:58:40|                 N|         1|           7|         239|              1|         5.11|       19.5|  0.5|    0.5|      4.71|         0.0|     NULL|                  0.3|       28.26|           1|        1|                2.75|\n",
      "|       2| 2020-01-09 11:35:41|  2020-01-09 11:47:11|                 N|         1|         244|          24|              1|         3.39|       12.5|  0.0|    0.5|      2.66|         0.0|     NULL|                  0.3|       15.96|           1|        1|                 0.0|\n",
      "|       2| 2020-01-06 17:31:18|  2020-01-06 17:40:09|                 N|         1|         166|         116|              1|         1.79|        8.5|  1.0|    0.5|      1.54|         0.0|     NULL|                  0.3|       11.84|           1|        1|                 0.0|\n",
      "|       2| 2020-01-08 08:33:23|  2020-01-08 08:48:23|                 N|         1|          33|          13|              1|         2.84|       13.0|  0.0|    0.5|      3.31|         0.0|     NULL|                  0.3|       19.86|           1|        1|                2.75|\n",
      "|       2| 2020-01-09 17:32:10|  2020-01-09 17:38:56|                 N|         1|         129|         129|              1|          0.7|        6.0|  0.5|    0.5|       0.0|         0.0|     NULL|                  0.3|         7.3|           2|        1|                 0.0|\n",
      "|       2| 2020-01-07 18:52:04|  2020-01-07 18:55:33|                 N|         1|          25|          40|              1|          0.8|        4.5|  1.0|    0.5|      1.26|         0.0|     NULL|                  0.3|        7.56|           1|        1|                 0.0|\n",
      "|       2| 2020-01-04 15:23:40|  2020-01-04 15:52:45|                 N|         1|          97|         165|              1|         6.61|       24.0|  0.0|    0.5|      4.96|         0.0|     NULL|                  0.3|       29.76|           1|        1|                 0.0|\n",
      "|       2| 2020-01-10 17:04:27|  2020-01-10 17:12:08|                 N|         1|          41|          42|              1|         1.79|        7.5|  1.0|    0.5|       0.0|         0.0|     NULL|                  0.3|         9.3|           2|        1|                 0.0|\n",
      "|       2| 2020-01-03 18:46:17|  2020-01-03 18:55:05|                 N|         1|          41|          42|              1|         1.84|        8.5|  1.0|    0.5|       0.0|         0.0|     NULL|                  0.3|        10.3|           2|        1|                 0.0|\n",
      "|       2| 2020-01-10 22:52:36|  2020-01-10 22:58:02|                 N|         1|         146|         179|              1|         1.54|        7.0|  0.5|    0.5|       1.0|         0.0|     NULL|                  0.3|         9.3|           1|        1|                 0.0|\n",
      "|       2| 2020-01-07 19:55:06|  2020-01-07 20:24:35|                 N|         1|         179|          48|              1|         5.61|       22.5|  1.0|    0.5|      5.41|         0.0|     NULL|                  0.3|       32.46|           1|        1|                2.75|\n",
      "|       2| 2020-01-09 17:57:44|  2020-01-09 18:03:47|                 N|         1|         166|         238|              1|         1.51|        7.0|  1.0|    0.5|      1.76|         0.0|     NULL|                  0.3|       10.56|           1|        1|                 0.0|\n",
      "|       2| 2020-01-03 14:36:03|  2020-01-03 14:45:39|                 N|         1|          82|          82|              1|         1.06|        7.5|  0.0|    0.5|       0.0|         0.0|     NULL|                  0.3|         8.3|           2|        1|                 0.0|\n",
      "|       2| 2020-01-09 08:28:52|  2020-01-09 08:39:10|                 N|         1|          41|         151|              1|         1.17|        8.0|  0.0|    0.5|      1.32|         0.0|     NULL|                  0.3|       10.12|           1|        1|                 0.0|\n",
      "|       2| 2020-01-07 18:46:30|  2020-01-07 19:32:24|                 N|         1|          66|         132|              1|        17.59|       48.5|  1.0|    0.5|     10.06|         0.0|     NULL|                  0.3|       60.36|           1|        1|                 0.0|\n",
      "+--------+--------------------+---------------------+------------------+----------+------------+------------+---------------+-------------+-----------+-----+-------+----------+------------+---------+---------------------+------------+------------+---------+--------------------+\n",
      "only showing top 20 rows\n",
      "\n"
     ]
    }
   ],
   "source": [
    "df_green.show()"
   ]
  },
  {
   "cell_type": "code",
   "execution_count": 12,
   "id": "bd2be99f",
   "metadata": {},
   "outputs": [],
   "source": [
    "df_green.createOrReplaceTempView('green')"
   ]
  },
  {
   "cell_type": "code",
   "execution_count": 15,
   "id": "622429be",
   "metadata": {},
   "outputs": [],
   "source": [
    "df_green_revenue = spark.sql(\"\"\"\n",
    "\n",
    "SELECT\n",
    "date_trunc( \"hour\", lpep_pickup_datetime) AS hour,\n",
    "PULocationID AS revenue_zone,\n",
    " \n",
    "COUNT(1) AS number_records,\n",
    "SUM(total_amount) AS amount\n",
    "FROM\n",
    "    green\n",
    "WHERE\n",
    "    lpep_pickup_datetime >= '2020-01-01 00:00:00'\n",
    "GROUP BY\n",
    "    1,2\n",
    "ORDER BY\n",
    "    1,2\n",
    "\n",
    "\"\"\")"
   ]
  },
  {
   "cell_type": "code",
   "execution_count": 16,
   "id": "d0b05f61",
   "metadata": {},
   "outputs": [
    {
     "name": "stderr",
     "output_type": "stream",
     "text": [
      "[Stage 19:===========================================>              (3 + 1) / 4]\r"
     ]
    },
    {
     "name": "stdout",
     "output_type": "stream",
     "text": [
      "+-------------------+------------+--------------+------------------+\n",
      "|               hour|revenue_zone|number_records|            amount|\n",
      "+-------------------+------------+--------------+------------------+\n",
      "|2020-01-01 00:00:00|           7|            45| 769.7299999999996|\n",
      "|2020-01-01 00:00:00|          17|             9|195.03000000000003|\n",
      "|2020-01-01 00:00:00|          18|             1|               7.8|\n",
      "|2020-01-01 00:00:00|          22|             1|              15.8|\n",
      "|2020-01-01 00:00:00|          24|             3|              87.6|\n",
      "|2020-01-01 00:00:00|          25|            26| 531.0000000000002|\n",
      "|2020-01-01 00:00:00|          29|             1|              61.3|\n",
      "|2020-01-01 00:00:00|          32|             2| 68.94999999999999|\n",
      "|2020-01-01 00:00:00|          33|            11|317.27000000000004|\n",
      "|2020-01-01 00:00:00|          35|             5|            129.96|\n",
      "|2020-01-01 00:00:00|          36|            11| 295.3400000000001|\n",
      "|2020-01-01 00:00:00|          37|             6|            175.67|\n",
      "|2020-01-01 00:00:00|          38|             2| 98.78999999999999|\n",
      "|2020-01-01 00:00:00|          40|             8|168.98000000000002|\n",
      "|2020-01-01 00:00:00|          41|            84|1363.9599999999982|\n",
      "|2020-01-01 00:00:00|          42|            52| 799.7599999999998|\n",
      "|2020-01-01 00:00:00|          43|             6|            107.52|\n",
      "|2020-01-01 00:00:00|          47|             1|              13.3|\n",
      "|2020-01-01 00:00:00|          49|            14|266.76000000000005|\n",
      "|2020-01-01 00:00:00|          51|             2|              17.8|\n",
      "+-------------------+------------+--------------+------------------+\n",
      "only showing top 20 rows\n",
      "\n"
     ]
    },
    {
     "name": "stderr",
     "output_type": "stream",
     "text": [
      "\r",
      "                                                                                \r"
     ]
    }
   ],
   "source": [
    "df_green_revenue.show()"
   ]
  },
  {
   "cell_type": "code",
   "execution_count": 22,
   "id": "ce511ef6",
   "metadata": {},
   "outputs": [
    {
     "name": "stderr",
     "output_type": "stream",
     "text": [
      "                                                                                \r"
     ]
    }
   ],
   "source": [
    "df_green_revenue \\\n",
    "    .repartition(20) \\\n",
    "    .write.parquet('/home/huely/data/report/revenue/green', mode='overwrite')"
   ]
  },
  {
   "cell_type": "code",
   "execution_count": 3,
   "id": "41dc0dc2",
   "metadata": {
    "scrolled": true
   },
   "outputs": [
    {
     "name": "stderr",
     "output_type": "stream",
     "text": [
      "                                                                                \r"
     ]
    }
   ],
   "source": [
    "df_yellow = spark.read.parquet('/home/huely/data/pq/yellow/*/*')"
   ]
  },
  {
   "cell_type": "code",
   "execution_count": 4,
   "id": "c445ce94",
   "metadata": {},
   "outputs": [],
   "source": [
    "df_yellow.createOrReplaceTempView('yellow')"
   ]
  },
  {
   "cell_type": "code",
   "execution_count": 18,
   "id": "18a20bfe",
   "metadata": {},
   "outputs": [],
   "source": [
    "df_yellow_revenue = spark.sql(\"\"\"\n",
    "\n",
    "SELECT\n",
    "date_trunc( \"hour\", tpep_pickup_datetime) AS hour,\n",
    "PULocationID AS revenue_zone,\n",
    " \n",
    "COUNT(1) AS number_records,\n",
    "SUM(total_amount) AS amount\n",
    "FROM\n",
    "    yellow\n",
    "WHERE\n",
    "    tpep_pickup_datetime >= '2020-01-01 00:00:00'\n",
    "GROUP BY\n",
    "    1,2\n",
    "\n",
    "\n",
    "\"\"\")"
   ]
  },
  {
   "cell_type": "code",
   "execution_count": 19,
   "id": "487cb114",
   "metadata": {},
   "outputs": [
    {
     "name": "stderr",
     "output_type": "stream",
     "text": [
      "[Stage 30:===================================================>     (9 + 1) / 10]\r"
     ]
    },
    {
     "name": "stdout",
     "output_type": "stream",
     "text": [
      "+-------------------+------------+--------------+------------------+\n",
      "|               hour|revenue_zone|number_records|            amount|\n",
      "+-------------------+------------+--------------+------------------+\n",
      "|2020-01-01 02:00:00|         234|           370| 6759.990000000011|\n",
      "|2020-01-07 12:00:00|          68|           181| 3046.229999999999|\n",
      "|2020-01-04 12:00:00|         249|           152| 2245.569999999999|\n",
      "|2020-01-01 01:00:00|         107|           583| 9994.480000000025|\n",
      "|2020-01-02 15:00:00|         236|           504|  7382.91000000002|\n",
      "|2020-01-04 02:00:00|          48|           185| 3436.580000000001|\n",
      "|2020-01-03 12:00:00|         163|           294| 5357.380000000009|\n",
      "|2020-01-04 02:00:00|          79|           426| 6893.030000000011|\n",
      "|2020-01-01 19:00:00|         100|           175|2726.7399999999966|\n",
      "|2020-01-03 16:00:00|         132|           480|27982.999999999935|\n",
      "|2020-01-03 18:00:00|         142|           378|  5731.95000000001|\n",
      "|2020-01-06 11:00:00|         114|            48| 715.5299999999999|\n",
      "|2020-01-07 23:00:00|         255|             3|              66.8|\n",
      "|2020-01-01 03:00:00|         170|           257| 4632.000000000004|\n",
      "|2020-01-03 10:00:00|         132|           240|11833.759999999997|\n",
      "|2020-01-04 02:00:00|         246|            94| 1621.359999999999|\n",
      "|2020-01-06 15:00:00|         151|           112|1745.8999999999992|\n",
      "|2020-01-01 01:00:00|         162|           298| 5736.690000000011|\n",
      "|2020-01-04 23:00:00|         161|           220|3379.9700000000007|\n",
      "|2020-01-07 18:00:00|         229|           336| 5170.340000000004|\n",
      "+-------------------+------------+--------------+------------------+\n",
      "only showing top 20 rows\n",
      "\n"
     ]
    },
    {
     "name": "stderr",
     "output_type": "stream",
     "text": [
      "\r",
      "                                                                                \r"
     ]
    }
   ],
   "source": [
    "df_yellow_revenue.show()"
   ]
  },
  {
   "cell_type": "code",
   "execution_count": 27,
   "id": "9d09924c",
   "metadata": {},
   "outputs": [
    {
     "name": "stderr",
     "output_type": "stream",
     "text": [
      "                                                                                \r"
     ]
    }
   ],
   "source": [
    "df_yellow_revenue \\\n",
    "    .repartition(20) \\\n",
    "    .write.parquet('/home/huely/data/report/revenue/yellow', mode='overwrite')"
   ]
  },
  {
   "cell_type": "markdown",
   "id": "a962b25a",
   "metadata": {},
   "source": [
    "# JOIN"
   ]
  },
  {
   "cell_type": "code",
   "execution_count": 36,
   "id": "8cd5de7c",
   "metadata": {},
   "outputs": [],
   "source": [
    "# materializing the results for effiency processing: load the previous loaded data\n",
    "df_green_revenue = spark.read.parquet('/home/huely/data/report/revenue/green')\n",
    "df_yellow_revenue = spark.read.parquet('/home/huely/data/report/revenue/yellow')\n"
   ]
  },
  {
   "cell_type": "code",
   "execution_count": 37,
   "id": "56fadad9",
   "metadata": {},
   "outputs": [],
   "source": [
    "# rename columns to seperate column names after join\n",
    "\n",
    "df_green_revenue_tmp = df_green_revenue \\\n",
    "    .withColumnRenamed('number_records','green_number_records') \\\n",
    "    .withColumnRenamed('amount','green_amount')\n",
    "\n",
    "df_yellow_revenue_tmp = df_yellow_revenue \\\n",
    "    .withColumnRenamed('number_records','yellow_number_records') \\\n",
    "    .withColumnRenamed('amount','yellow_amount')"
   ]
  },
  {
   "cell_type": "code",
   "execution_count": 38,
   "id": "312747cd",
   "metadata": {},
   "outputs": [],
   "source": [
    "df_join = df_green_revenue_tmp.join(df_yellow_revenue_tmp, on=['hour','revenue_zone'], how='outer')"
   ]
  },
  {
   "cell_type": "code",
   "execution_count": 39,
   "id": "3e3565e6",
   "metadata": {},
   "outputs": [
    {
     "name": "stderr",
     "output_type": "stream",
     "text": [
      "[Stage 75:===========================================>              (3 + 1) / 4]\r"
     ]
    },
    {
     "name": "stdout",
     "output_type": "stream",
     "text": [
      "+-------------------+------------+--------------------+------------------+---------------------+------------------+\n",
      "|               hour|revenue_zone|green_number_records|      green_amount|yellow_number_records|     yellow_amount|\n",
      "+-------------------+------------+--------------------+------------------+---------------------+------------------+\n",
      "|2020-01-01 00:00:00|           3|                NULL|              NULL|                    1|              25.0|\n",
      "|2020-01-01 00:00:00|           4|                NULL|              NULL|                   57|1004.3000000000002|\n",
      "|2020-01-01 00:00:00|           7|                  45| 769.7299999999996|                   38| 455.1700000000001|\n",
      "|2020-01-01 00:00:00|          12|                NULL|              NULL|                    6|106.99999999999999|\n",
      "|2020-01-01 00:00:00|          37|                   6|            175.67|                    7|161.60999999999999|\n",
      "|2020-01-01 00:00:00|          40|                   8|168.98000000000002|                    5|             89.97|\n",
      "|2020-01-01 00:00:00|          45|                NULL|              NULL|                   42| 732.4800000000002|\n",
      "|2020-01-01 00:00:00|          47|                   1|              13.3|                    1|               8.3|\n",
      "|2020-01-01 00:00:00|          51|                   2|              17.8|                    1|              31.0|\n",
      "|2020-01-01 00:00:00|          62|                   1|             15.95|                    1|             61.43|\n",
      "|2020-01-01 00:00:00|          68|                NULL|              NULL|                  396| 7825.070000000014|\n",
      "|2020-01-01 00:00:00|          73|                NULL|              NULL|                    1|              17.3|\n",
      "|2020-01-01 00:00:00|          74|                  24| 317.0900000000001|                   47| 586.2100000000002|\n",
      "|2020-01-01 00:00:00|          77|                   2| 75.99000000000001|                    3|            134.24|\n",
      "|2020-01-01 00:00:00|          80|                  13|            364.32|                   20|371.40000000000003|\n",
      "|2020-01-01 00:00:00|          83|                   7|              94.1|                    1|               9.8|\n",
      "|2020-01-01 00:00:00|          88|                NULL|              NULL|                   36|             823.8|\n",
      "|2020-01-01 00:00:00|          89|                   1|              11.3|                    2|             48.16|\n",
      "|2020-01-01 00:00:00|          94|                   3| 64.24000000000001|                    1|              13.3|\n",
      "|2020-01-01 00:00:00|          95|                  15|             202.2|                    1|               6.3|\n",
      "+-------------------+------------+--------------------+------------------+---------------------+------------------+\n",
      "only showing top 20 rows\n",
      "\n"
     ]
    },
    {
     "name": "stderr",
     "output_type": "stream",
     "text": [
      "\r",
      "[Stage 78:>                                                         (0 + 1) / 1]\r",
      "\r",
      "                                                                                \r"
     ]
    }
   ],
   "source": [
    "df_join.show()"
   ]
  },
  {
   "cell_type": "code",
   "execution_count": 41,
   "id": "7388bb2c",
   "metadata": {},
   "outputs": [
    {
     "name": "stderr",
     "output_type": "stream",
     "text": [
      "                                                                                \r"
     ]
    }
   ],
   "source": [
    "df_join.write.parquet('/home/huely/data/report/revenue/total', mode='overwrite')"
   ]
  },
  {
   "cell_type": "markdown",
   "id": "41c256bd",
   "metadata": {},
   "source": [
    "# Join one large table, one small"
   ]
  },
  {
   "cell_type": "code",
   "execution_count": 43,
   "id": "aa2a9d6a",
   "metadata": {},
   "outputs": [],
   "source": [
    "df_join = spark.read.parquet('/home/huely/data/report/revenue/total')"
   ]
  },
  {
   "cell_type": "code",
   "execution_count": 44,
   "id": "a0dd5133",
   "metadata": {},
   "outputs": [
    {
     "name": "stdout",
     "output_type": "stream",
     "text": [
      "+-------------------+------------+--------------------+------------------+---------------------+------------------+\n",
      "|               hour|revenue_zone|green_number_records|      green_amount|yellow_number_records|     yellow_amount|\n",
      "+-------------------+------------+--------------------+------------------+---------------------+------------------+\n",
      "|2020-01-01 00:00:00|          14|                NULL|              NULL|                    1|               8.8|\n",
      "|2020-01-01 00:00:00|          15|                NULL|              NULL|                    1|             34.09|\n",
      "|2020-01-01 00:00:00|          17|                   9|195.03000000000003|                    8|220.20999999999998|\n",
      "|2020-01-01 00:00:00|          25|                  26| 531.0000000000002|                   16| 324.3500000000001|\n",
      "|2020-01-01 00:00:00|          32|                   2| 68.94999999999999|                    1|              18.0|\n",
      "|2020-01-01 00:00:00|          43|                   6|            107.52|                  390| 6539.510000000013|\n",
      "|2020-01-01 00:00:00|          49|                  14|266.76000000000005|                   10|185.64999999999998|\n",
      "|2020-01-01 00:00:00|          59|                   3|50.900000000000006|                 NULL|              NULL|\n",
      "|2020-01-01 00:00:00|          69|                   1|              11.8|                    4|            106.52|\n",
      "|2020-01-01 00:00:00|          71|                   1|              23.8|                 NULL|              NULL|\n",
      "|2020-01-01 00:00:00|          72|                   2|             67.53|                 NULL|              NULL|\n",
      "|2020-01-01 00:00:00|          75|                  26|278.14000000000004|                   69| 958.3499999999995|\n",
      "|2020-01-01 00:00:00|          78|                   2|             34.46|                 NULL|              NULL|\n",
      "|2020-01-01 00:00:00|          82|                  28| 305.1200000000002|                    1|              29.8|\n",
      "|2020-01-01 00:00:00|          85|                   4| 64.75999999999999|                    3|            102.56|\n",
      "|2020-01-01 00:00:00|          87|                NULL|              NULL|                  112|2456.6699999999983|\n",
      "|2020-01-01 00:00:00|          93|                NULL|              NULL|                    3|            210.28|\n",
      "|2020-01-01 00:00:00|         107|                NULL|              NULL|                  380| 6441.030000000009|\n",
      "|2020-01-01 00:00:00|         113|                NULL|              NULL|                  220|3984.3200000000043|\n",
      "|2020-01-01 00:00:00|         116|                  18| 328.7600000000001|                   34| 561.5100000000001|\n",
      "+-------------------+------------+--------------------+------------------+---------------------+------------------+\n",
      "only showing top 20 rows\n",
      "\n"
     ]
    }
   ],
   "source": [
    "df_join.show()"
   ]
  },
  {
   "cell_type": "code",
   "execution_count": 45,
   "id": "9ebad238",
   "metadata": {},
   "outputs": [],
   "source": [
    "df_zones = spark.read.parquet('zones')"
   ]
  },
  {
   "cell_type": "code",
   "execution_count": 46,
   "id": "39b5d713",
   "metadata": {},
   "outputs": [
    {
     "name": "stdout",
     "output_type": "stream",
     "text": [
      "+----------+-------------+--------------------+------------+\n",
      "|LocationID|      Borough|                Zone|service_zone|\n",
      "+----------+-------------+--------------------+------------+\n",
      "|         1|          EWR|      Newark Airport|         EWR|\n",
      "|         2|       Queens|         Jamaica Bay|   Boro Zone|\n",
      "|         3|        Bronx|Allerton/Pelham G...|   Boro Zone|\n",
      "|         4|    Manhattan|       Alphabet City| Yellow Zone|\n",
      "|         5|Staten Island|       Arden Heights|   Boro Zone|\n",
      "|         6|Staten Island|Arrochar/Fort Wad...|   Boro Zone|\n",
      "|         7|       Queens|             Astoria|   Boro Zone|\n",
      "|         8|       Queens|        Astoria Park|   Boro Zone|\n",
      "|         9|       Queens|          Auburndale|   Boro Zone|\n",
      "|        10|       Queens|        Baisley Park|   Boro Zone|\n",
      "|        11|     Brooklyn|          Bath Beach|   Boro Zone|\n",
      "|        12|    Manhattan|        Battery Park| Yellow Zone|\n",
      "|        13|    Manhattan|   Battery Park City| Yellow Zone|\n",
      "|        14|     Brooklyn|           Bay Ridge|   Boro Zone|\n",
      "|        15|       Queens|Bay Terrace/Fort ...|   Boro Zone|\n",
      "|        16|       Queens|             Bayside|   Boro Zone|\n",
      "|        17|     Brooklyn|             Bedford|   Boro Zone|\n",
      "|        18|        Bronx|        Bedford Park|   Boro Zone|\n",
      "|        19|       Queens|           Bellerose|   Boro Zone|\n",
      "|        20|        Bronx|             Belmont|   Boro Zone|\n",
      "+----------+-------------+--------------------+------------+\n",
      "only showing top 20 rows\n",
      "\n"
     ]
    }
   ],
   "source": [
    "df_zones.show()"
   ]
  },
  {
   "cell_type": "code",
   "execution_count": 47,
   "id": "66ceba48",
   "metadata": {},
   "outputs": [
    {
     "data": {
      "text/plain": [
       "DataFrame[hour: timestamp, revenue_zone: int, green_number_records: bigint, green_amount: double, yellow_number_records: bigint, yellow_amount: double]"
      ]
     },
     "execution_count": 47,
     "metadata": {},
     "output_type": "execute_result"
    }
   ],
   "source": [
    "df_join"
   ]
  },
  {
   "cell_type": "code",
   "execution_count": 50,
   "id": "7f31b3ae",
   "metadata": {},
   "outputs": [],
   "source": [
    "df_result = df_join.join(df_zones, df_join.revenue_zone == df_zones.LocationID)"
   ]
  },
  {
   "cell_type": "code",
   "execution_count": 53,
   "id": "5e933bb4",
   "metadata": {},
   "outputs": [
    {
     "name": "stdout",
     "output_type": "stream",
     "text": [
      "root\n",
      " |-- hour: timestamp (nullable = true)\n",
      " |-- revenue_zone: integer (nullable = true)\n",
      " |-- green_number_records: long (nullable = true)\n",
      " |-- green_amount: double (nullable = true)\n",
      " |-- yellow_number_records: long (nullable = true)\n",
      " |-- yellow_amount: double (nullable = true)\n",
      " |-- LocationID: string (nullable = true)\n",
      " |-- Borough: string (nullable = true)\n",
      " |-- Zone: string (nullable = true)\n",
      " |-- service_zone: string (nullable = true)\n",
      "\n"
     ]
    }
   ],
   "source": [
    "df_result.printSchema()"
   ]
  },
  {
   "cell_type": "code",
   "execution_count": 57,
   "id": "5186083f",
   "metadata": {},
   "outputs": [
    {
     "name": "stderr",
     "output_type": "stream",
     "text": [
      "                                                                                \r"
     ]
    }
   ],
   "source": [
    "df_result.drop('LocationID').write.parquet('tmp/revenue-zones')"
   ]
  },
  {
   "cell_type": "code",
   "execution_count": 58,
   "id": "2abf236e",
   "metadata": {},
   "outputs": [
    {
     "data": {
      "text/plain": [
       "<bound method SparkSession.stop of <pyspark.sql.session.SparkSession object at 0x7fec51fc7b90>>"
      ]
     },
     "execution_count": 58,
     "metadata": {},
     "output_type": "execute_result"
    }
   ],
   "source": [
    "spark.stop"
   ]
  }
 ],
 "metadata": {
  "kernelspec": {
   "display_name": "Python 3 (ipykernel)",
   "language": "python",
   "name": "python3"
  },
  "language_info": {
   "codemirror_mode": {
    "name": "ipython",
    "version": 3
   },
   "file_extension": ".py",
   "mimetype": "text/x-python",
   "name": "python",
   "nbconvert_exporter": "python",
   "pygments_lexer": "ipython3",
   "version": "3.11.5"
  }
 },
 "nbformat": 4,
 "nbformat_minor": 5
}
