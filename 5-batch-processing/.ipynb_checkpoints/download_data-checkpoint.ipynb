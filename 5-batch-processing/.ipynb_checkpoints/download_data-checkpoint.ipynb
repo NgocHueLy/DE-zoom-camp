{
 "cells": [
  {
   "cell_type": "code",
   "execution_count": 3,
   "metadata": {
    "scrolled": true
   },
   "outputs": [],
   "source": [
    "urls=[]\n",
    "import requests\n",
    "\n",
    "for taxi_type in ['yellow','green']:\n",
    "    for year in [2020,2021]:\n",
    "        if year==2020:\n",
    "            for month in range(1,13):\n",
    "                url=f'https://github.com/DataTalksClub/nyc-tlc-data/releases/download/{taxi_type}/{taxi_type}_tripdata_{year}-{month:02d}.csv.gz'\n",
    "                urls.append(url)\n",
    "        else:\n",
    "            for month in range(1,8):\n",
    "                url=f'https://github.com/DataTalksClub/nyc-tlc-data/releases/download/{taxi_type}/{taxi_type}_tripdata_{year}-{month:02d}.csv.gz'\n",
    "                urls.append(url)\n",
    "for url in urls:      \n",
    "        filename = url.split('/')[-1]\n",
    "        r = requests.get(url, allow_redirects=True) \n",
    "        with open(f'/home/huely/data/{filename}', 'wb') as f:\n",
    "            f.write(r.content)\n",
    "      \n",
    "        "
   ]
  }
 ],
 "metadata": {
  "kernelspec": {
   "display_name": "Python 3 (ipykernel)",
   "language": "python",
   "name": "python3"
  },
  "language_info": {
   "codemirror_mode": {
    "name": "ipython",
    "version": 3
   },
   "file_extension": ".py",
   "mimetype": "text/x-python",
   "name": "python",
   "nbconvert_exporter": "python",
   "pygments_lexer": "ipython3",
   "version": "3.11.5"
  }
 },
 "nbformat": 4,
 "nbformat_minor": 2
}
